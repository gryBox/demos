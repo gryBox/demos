{
 "cells": [
  {
   "cell_type": "markdown",
   "metadata": {},
   "source": [
    "#### Pramble In this example we will use anaconda for our python enviroment manager\n",
    "\n",
    "\n",
    "### Steps to deploy a minimal ML model with prefect and coiled.  \n",
    "\n",
    "\n",
    "1. Create new enviroment using the shell\n",
    "`conda create --name py38Pcoiled python=3.8.8`  \n",
    "\n",
    "If you are wondering why the python version is being typed out in such sp"
   ]
  },
  {
   "cell_type": "markdown",
   "metadata": {},
   "source": []
  },
  {
   "cell_type": "code",
   "execution_count": null,
   "metadata": {},
   "outputs": [],
   "source": []
  }
 ],
 "metadata": {
  "kernelspec": {
   "display_name": "Python 3.7.7 64-bit ('base': conda)",
   "name": "python377jvsc74a57bd0e2169db21e8226a6731e314dca92f68d9c252f9b1c640859369cf78412d75896"
  },
  "language_info": {
   "name": "python",
   "version": ""
  },
  "orig_nbformat": 2
 },
 "nbformat": 4,
 "nbformat_minor": 2
}